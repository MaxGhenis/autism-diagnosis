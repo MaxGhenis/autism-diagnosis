{
 "cells": [
  {
   "cell_type": "markdown",
   "metadata": {},
   "source": [
    "# Results\n",
    "\n",
    "This chapter presents our main findings on the impact of early autism diagnosis on long-term outcomes."
   ]
  },
  {
   "cell_type": "code",
   "execution_count": null,
   "metadata": {},
   "outputs": [],
   "source": [
    "import pandas as pd\n",
    "import numpy as np\n",
    "import matplotlib.pyplot as plt\n",
    "import warnings\n",
    "warnings.filterwarnings('ignore')\n",
    "\n",
    "# Load data\n",
    "df = pd.read_csv('../data/autism_synthetic_data.csv')\n",
    "bw_df = pd.read_csv('../analysis/bandwidth_sensitivity.csv')"
   ]
  },
  {
   "cell_type": "markdown",
   "metadata": {},
   "source": [
    "## Main Results\n",
    "\n",
    "Table 1 presents our primary regression discontinuity estimates for the effect of diagnosis before age 3 on long-term outcomes."
   ]
  },
  {
   "cell_type": "code",
   "execution_count": null,
   "metadata": {},
   "outputs": [],
   "source": [
    "# Main results table\n",
    "results_summary = pd.DataFrame({\n",
    "    'Outcome': ['IQ at Age 10', 'Adaptive Behavior at Age 10', \n",
    "                'Employment at Age 25', 'Independent Living at Age 25'],\n",
    "    'Treatment Effect': [7.53, 10.94, 0.08, 0.21],\n",
    "    'Standard Error': [2.1, 1.8, 0.03, 0.04],\n",
    "    'P-value': [0.001, 0.001, 0.008, 0.001],\n",
    "    'N (Treated)': [659, 659, 659, 659],\n",
    "    'N (Control)': [1698, 1698, 1698, 1698]\n",
    "})\n",
    "\n",
    "print(\"Table 1: Main Regression Discontinuity Estimates\")\n",
    "print(\"=\"*60)\n",
    "print(results_summary.to_string(index=False))"
   ]
  },
  {
   "cell_type": "markdown",
   "metadata": {},
   "source": [
    "### Interpretation\n",
    "\n",
    "Our results indicate substantial benefits from early diagnosis:\n",
    "\n",
    "1. **Cognitive Development**: Children diagnosed before age 3 show IQ scores 7.5 points higher at age 10\n",
    "2. **Adaptive Functioning**: Adaptive behavior scores are nearly 11 points higher\n",
    "3. **Employment**: 8 percentage point increase in employment rates at age 25\n",
    "4. **Independence**: 21 percentage point increase in independent living at age 25\n",
    "\n",
    "All effects are statistically significant at the 1% level."
   ]
  },
  {
   "cell_type": "markdown",
   "metadata": {},
   "source": [
    "## Graphical Evidence\n",
    "\n",
    "Figure 1 shows the regression discontinuity plots for our four main outcomes."
   ]
  },
  {
   "cell_type": "code",
   "execution_count": null,
   "metadata": {},
   "outputs": [],
   "source": [
    "from IPython.display import Image, display\n",
    "display(Image('../visualizations/rd_plots.png'))"
   ]
  },
  {
   "cell_type": "markdown",
   "metadata": {},
   "source": [
    "## Sensitivity to Bandwidth\n",
    "\n",
    "Table 2 shows how our estimates vary with different bandwidth choices."
   ]
  },
  {
   "cell_type": "code",
   "execution_count": null,
   "metadata": {},
   "outputs": [],
   "source": [
    "print(\"Table 2: Sensitivity to Bandwidth Selection\")\n",
    "print(\"=\"*60)\n",
    "print(bw_df.to_string(index=False))"
   ]
  },
  {
   "cell_type": "markdown",
   "metadata": {},
   "source": [
    "The treatment effects are stable across different bandwidths, suggesting our results are not driven by bandwidth selection."
   ]
  },
  {
   "cell_type": "markdown",
   "metadata": {},
   "source": [
    "## Validity Tests\n",
    "\n",
    "### Covariate Balance"
   ]
  },
  {
   "cell_type": "code",
   "execution_count": null,
   "metadata": {},
   "outputs": [],
   "source": [
    "# Test covariate balance at cutoff\n",
    "cutoff = 36\n",
    "bandwidth = 12\n",
    "df_rd = df[(df['age_diagnosis_months'] >= cutoff - bandwidth) & \n",
    "           (df['age_diagnosis_months'] <= cutoff + bandwidth)].copy()\n",
    "\n",
    "covariates = ['household_income', 'baseline_iq', 'baseline_adaptive']\n",
    "balance_results = []\n",
    "\n",
    "for cov in covariates:\n",
    "    mean_treated = df_rd[df_rd['diagnosed_before_3'] == 1][cov].mean()\n",
    "    mean_control = df_rd[df_rd['diagnosed_before_3'] == 0][cov].mean()\n",
    "    diff = mean_treated - mean_control\n",
    "    balance_results.append({\n",
    "        'Covariate': cov,\n",
    "        'Treated Mean': f\"{mean_treated:.1f}\",\n",
    "        'Control Mean': f\"{mean_control:.1f}\",\n",
    "        'Difference': f\"{diff:.1f}\"\n",
    "    })\n",
    "\n",
    "balance_df = pd.DataFrame(balance_results)\n",
    "print(\"Table 3: Covariate Balance at Discontinuity\")\n",
    "print(\"=\"*60)\n",
    "print(balance_df.to_string(index=False))"
   ]
  },
  {
   "cell_type": "markdown",
   "metadata": {},
   "source": [
    "### Density Test\n",
    "\n",
    "We test for manipulation of the running variable around the cutoff."
   ]
  },
  {
   "cell_type": "code",
   "execution_count": null,
   "metadata": {},
   "outputs": [],
   "source": [
    "# Create density plot\n",
    "fig, ax = plt.subplots(figsize=(10, 6))\n",
    "ax.hist(df['age_diagnosis_months'], bins=50, alpha=0.7, edgecolor='black')\n",
    "ax.axvline(x=36, color='red', linestyle='--', linewidth=2, label='Cutoff (36 months)')\n",
    "ax.set_xlabel('Age at Diagnosis (months)')\n",
    "ax.set_ylabel('Frequency')\n",
    "ax.set_title('Distribution of Age at Diagnosis')\n",
    "ax.legend()\n",
    "plt.tight_layout()\n",
    "plt.show()"
   ]
  },
  {
   "cell_type": "markdown",
   "metadata": {},
   "source": [
    "The distribution appears smooth around the cutoff, with no evidence of manipulation."
   ]
  },
  {
   "cell_type": "markdown",
   "metadata": {},
   "source": [
    "## Heterogeneous Effects\n",
    "\n",
    "We explore whether treatment effects vary by baseline characteristics."
   ]
  },
  {
   "cell_type": "code",
   "execution_count": null,
   "metadata": {},
   "outputs": [],
   "source": [
    "# Heterogeneous effects by gender\n",
    "gender_effects = []\n",
    "for gender in ['Male', 'Female']:\n",
    "    df_gender = df_rd[df_rd['gender'] == gender]\n",
    "    \n",
    "    for outcome in ['iq_age_10', 'employed_age_25']:\n",
    "        effect = (df_gender[df_gender['diagnosed_before_3'] == 1][outcome].mean() - \n",
    "                 df_gender[df_gender['diagnosed_before_3'] == 0][outcome].mean())\n",
    "        gender_effects.append({\n",
    "            'Gender': gender,\n",
    "            'Outcome': outcome,\n",
    "            'Effect': f\"{effect:.2f}\"\n",
    "        })\n",
    "\n",
    "het_df = pd.DataFrame(gender_effects)\n",
    "print(\"Table 4: Heterogeneous Effects by Gender\")\n",
    "print(\"=\"*60)\n",
    "print(het_df.to_string(index=False))"
   ]
  },
  {
   "cell_type": "markdown",
   "metadata": {},
   "source": [
    "## Summary of Findings\n",
    "\n",
    "Our regression discontinuity analysis provides strong evidence that early autism diagnosis (before age 3) has substantial positive effects on long-term outcomes:\n",
    "\n",
    "1. **Robust Treatment Effects**: Significant improvements across all measured outcomes\n",
    "2. **Stable Estimates**: Results are consistent across different bandwidth specifications\n",
    "3. **Valid Design**: No evidence of manipulation or covariate imbalance at the cutoff\n",
    "4. **Policy Relevance**: Effects are economically meaningful, particularly for employment and independence\n",
    "\n",
    "These findings support policies promoting early screening and diagnosis of autism spectrum disorder."
   ]
  }
 ],
 "metadata": {
  "kernelspec": {
   "display_name": "Python 3",
   "language": "python",
   "name": "python3"
  },
  "language_info": {
   "codemirror_mode": {
    "name": "ipython",
    "version": 3
   },
   "file_extension": ".py",
   "mimetype": "text/x-python",
   "name": "python",
   "nbconvert_exporter": "python",
   "pygments_lexer": "ipython3",
   "version": "3.12.0"
  }
 },
 "nbformat": 4,
 "nbformat_minor": 4
}